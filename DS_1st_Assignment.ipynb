{
 "cells": [
  {
   "cell_type": "code",
   "execution_count": null,
   "id": "31e02f60-dca9-44aa-8edc-bcde6e3519c9",
   "metadata": {
    "jp-MarkdownHeadingCollapsed": true
   },
   "outputs": [],
   "source": [
    "'''Q1 - Explain the key features of python that make it a popular choice for programming.\r\n",
    "        \r\n",
    "Ans - Following are some points.\r\n",
    "> It is widely used high level lang           e.\r\n",
    "> Uses simple syntax like normal language which is easy to unde            nd.\r\n",
    "> It is easily portable means it can work on cross p             rms.\r\n",
    "> It has huge support for              ries.\r\n",
    "> It can integrate wit                code.\r\n",
    "> It executes code line by line which helps in quick testingeb              ugging.\r\n",
    "> It is widely used in data science and machine learning because of it’s libraries support like keras Tepandasow,which helps         mining           \n",
    "        manipand , maavisu. ''' '''lization.\r\n"
   ]
  },
  {
   "cell_type": "code",
   "execution_count": null,
   "id": "20c31a25-d526-48b2-8dfb-165486a2d681",
   "metadata": {},
   "outputs": [],
   "source": [
    "''' Q2 - Describe the role of predefined keywords in python and provide example of how they are used in a program.\r\n",
    "\r\n",
    "Ans - Predefined keywords are reserved words which has certain fixed meaning which cannot be used as normal values, variables or functi \n",
    "      . These predefined keywords are  used to control the flow and to maintain structure of the program which makes program readable and executab        .\r\n",
    "Some Example         - \r\n",
    "Control flow - if, elif          se.\r\n",
    "Boolean - True, Fal           one.\r\n",
    "Iteration - for, while, break, co,             else.\r\n",
    "Import - imp fr ''' '''om, as.\r\n"
   ]
  },
  {
   "cell_type": "code",
   "execution_count": 2,
   "id": "b4f43c0a-8cba-4cb5-adab-08f28ff02e6f",
   "metadata": {},
   "outputs": [
    {
     "name": "stdin",
     "output_type": "stream",
     "text": [
      "Score :  95\n"
     ]
    },
    {
     "name": "stdout",
     "output_type": "stream",
     "text": [
      "optained 'A' grade\n",
      "________________________________\n",
      "it is raining\n",
      "________________________________\n",
      "it is sunny\n",
      "________________________________\n",
      "//using for loop//\n",
      "Ajay\n",
      "Vijay\n",
      "Sanjay\n",
      "Dhanunjay\n",
      "Jay\n",
      "\n",
      "//using while loop//\n",
      "Ajay\n",
      "Vijay\n",
      "Sanjay\n",
      "Dhanunjay\n",
      "Jay\n"
     ]
    }
   ],
   "source": [
    "#2\n",
    "# Here we use \"if, elif and else\" as example of predefined keyword.\n",
    "Score=float(input(\"Score : \"))\n",
    "if Score >= 90:\n",
    "    print(\"optained 'A' grade\")\n",
    "elif Score >= 80:\n",
    "    print(\"optained 'B' grade\")\n",
    "elif Score >= 70:\n",
    "    print(\"optained 'C' grade\")\n",
    "elif Score >= 60:\n",
    "    print(\"optained 'D' grade\")\n",
    "else:\n",
    "    print(\"optained 'F' grade\")\n",
    "###################################################################\n",
    "print(\"________________________________\")\n",
    "''' Here we use boolean and operator keywords \"True, False\" \"and, or, not\" as example. '''\n",
    "is_raining = True\n",
    "is_sunny = False\n",
    "if is_raining and not is_sunny:\n",
    "    print(\"it is raining\")\n",
    "\n",
    "print(\"________________________________\")\n",
    "is_raining = False\n",
    "is_sunny = True\n",
    "if not is_raining or is_sunny:\n",
    "    print(\"it is sunny\")\n",
    "\n",
    "print(\"________________________________\")\n",
    "#iteration keywords example\n",
    "#using for loop\n",
    "Names = [\"Ajay\", \"Vijay\", \"Sanjay\", \"Dhanunjay\", \"Jay\"]\n",
    "print(\"//using for loop//\")\n",
    "for name in Names:\n",
    "    print(name)\n",
    "\n",
    "print(\"\\n//using while loop//\")\n",
    "index = 0\n",
    "while index < len(Names):\n",
    "    print(Names[index])\n",
    "    index += 1"
   ]
  },
  {
   "cell_type": "code",
   "execution_count": null,
   "id": "f2c80820-c3ff-439c-b27e-367e66c4761f",
   "metadata": {},
   "outputs": [],
   "source": [
    "''' Q3 - Compare and contrast mutable and immutable objects in python with example.\n",
    "\n",
    "Ans - Mutable Objects - Are those which we can change the same object without creating a new object. It can be removed and replaced.\n",
    "      Eg :- lists, dictionaries etc.\n",
    "      Immutable objects :- Are those which we cannot change after creating. Any changes made to immutable objects will create a new object without\n",
    "      altering the value of the object. Eg:- string, tuples etc. '''\n"
   ]
  },
  {
   "cell_type": "code",
   "execution_count": 3,
   "id": "48f3b99f-ba97-4e27-beaf-9d6c8198e05f",
   "metadata": {},
   "outputs": [
    {
     "name": "stdout",
     "output_type": "stream",
     "text": [
      "['a', 'b', 'c', 'd', 'e', 'f']\n",
      "['a', 'b', 'd', 'e', 'f']\n",
      "['a', 'b', 'c', 'd', 'e', 'f']\n",
      "['A', 'B', 'C', 'D', 'E', 'F']\n",
      "______________________________\n",
      "Ajay\n",
      "Ajay Verma\n",
      "50\n",
      "140714532224984\n",
      "50\n",
      "140714532224984\n",
      "100\n",
      "140714532226584\n",
      "50\n",
      "140714532224984\n"
     ]
    }
   ],
   "source": [
    "#3\n",
    "#Example of Mutable Object.\n",
    "names = [\"a\",\"b\",\"c\",\"d\",\"e\"]\n",
    "names.append (\"f\")\n",
    "print(names)\n",
    "names.remove(\"c\")\n",
    "print(names)\n",
    "names.insert (2, \"c\")\n",
    "print(names,)\n",
    "names[0 : 6] = \"A\", \"B\", \"C\", \"D\", \"E\", \"F\"\n",
    "print (names)\n",
    "\n",
    "print(\"______________________________\")\n",
    "#Example of immutable object.\n",
    "#using string.\n",
    "name = \"Ajay\"\n",
    "new_name = name.replace(\"Ajay\", \"Ajay Verma\")\n",
    "print (name)\n",
    "print (new_name)\n",
    "#using integer.\n",
    "a = 50\n",
    "b = a\n",
    "print(a)\n",
    "print(id(a))\n",
    "print(b)\n",
    "print(id(b))\n",
    "a += 50\n",
    "print(a)\n",
    "print(id(a))# Here we get new value of a with new identifier.\n",
    "print(b)\n",
    "print(id(b))"
   ]
  },
  {
   "cell_type": "code",
   "execution_count": null,
   "id": "4bf85546-cf95-430f-8575-2ad70fe2fa32",
   "metadata": {},
   "outputs": [],
   "source": [
    "'''Q4 - Discuss the different types of operators in python and provide examples of how they are used.\n",
    "\n",
    "Ans - Operators are the special keywords or symbols used to manipulate data in a structured way by operating values and variables.\n",
    "      Different type of operators are used to perform different type of operations respectively. Following are some examples.\n",
    "\n",
    "      Arithmetic - +, -, *,  /,  %, **, // \n",
    "      Comparison - ==, !=, >, <, >=, <=\n",
    "      Bitwise - and, or, not, xor, <<(left shift), >>(right shift)\n",
    "      Assignment - =, +=, -=, *=, /=, %=, **=, //=\n",
    "      Identity - is, is not\n",
    "      Membership - in, not in\n",
    "      Logical - and, or, not . '''\n"
   ]
  },
  {
   "cell_type": "code",
   "execution_count": 4,
   "id": "d9d86cd1-97fa-404d-8336-feff0a4bb119",
   "metadata": {},
   "outputs": [
    {
     "name": "stdout",
     "output_type": "stream",
     "text": [
      "\n",
      "Arithmetic operator\n",
      "\n",
      "63\n",
      "45\n",
      "486\n",
      "6.0\n",
      "0\n",
      "3904305912313344\n",
      "6\n",
      "\n",
      "Comparison Operators\n",
      "\n",
      "False\n",
      "True\n",
      "True\n",
      "False\n",
      "True\n",
      "False\n",
      "\n",
      "Logical Operators\n",
      "\n",
      "False\n",
      "True\n",
      "False\n",
      "True\n",
      "\n",
      "using bitwise operators\n",
      "\n",
      "bitwise and: 10 & 20 = 0 (0b0)\n",
      "bitwise or: 10 | 20 = 30 (0b11110)\n",
      "bitwise not a: ~10 = -11 (-0b1011)\n",
      "bitwise not a: ~20 = -21 (-0b10101)\n",
      "bitwise right shift: >>10 = 1 (0b1)\n"
     ]
    }
   ],
   "source": [
    "#4\n",
    "#using Arithmetic operators\n",
    "print(\"\\nArithmetic operator\\n\")\n",
    "a = 54\n",
    "b = 9\n",
    "print(a + b)\n",
    "print(a - b)\n",
    "print(a * b)\n",
    "print(a / b)\n",
    "print(a % b)\n",
    "print(a ** b)\n",
    "print(a // b)\n",
    "#using  comparison operators.\n",
    "print(\"\\nComparison Operators\\n\")\n",
    "a = 100\n",
    "b = 50\n",
    "print(a==b)\n",
    "print(a!=b)\n",
    "print(a>b)\n",
    "print(a<b)\n",
    "print(a>=b)\n",
    "print(a<=b)\n",
    "#Using logical operators\n",
    "print(\"\\nLogical Operators\\n\")\n",
    "is_summer = False\n",
    "is_monsoon = True\n",
    "print (is_summer and is_monsoon)\n",
    "print(is_summer or is_monsoon)\n",
    "print(is_summer and not is_monsoon)\n",
    "print(is_monsoon and not is_summer)\n",
    "\n",
    "# Using Bitwise Operator\n",
    "# Here in bitwise operator decimals will be converted into binary and then calculated.\n",
    "print (\"\\nusing bitwise operators\\n\")\n",
    "a = 10\n",
    "b = 20\n",
    "#using and operator\n",
    "result_and = a & b\n",
    "print(f\"bitwise and: {a} & {b} = {result_and} ({bin(result_and)})\")\n",
    "#using or operator\n",
    "result_or = a | b\n",
    "print(f\"bitwise or: {a} | {b} = {result_or} ({bin(result_or)})\")\n",
    "#using not operator\n",
    "result_not_a = ~a\n",
    "result_not_b = ~b\n",
    "print(f\"bitwise not a: ~{a} = {result_not_a} ({bin(result_not_a)})\")\n",
    "print(f\"bitwise not a: ~{b} = {result_not_b} ({bin(result_not_b)})\")\n",
    "#using right shift\n",
    "shift_amount = 3\n",
    "result_right_shift_a = a >> shift_amount\n",
    "print(f\"bitwise right shift: >>{a} = {result_right_shift_a} ({bin(result_right_shift_a)})\")\n",
    "\n",
    "\n"
   ]
  },
  {
   "cell_type": "code",
   "execution_count": null,
   "id": "1e20a1c1-5c38-425e-9b7e-aa186d8da130",
   "metadata": {},
   "outputs": [],
   "source": [
    "''' Q5 - Explain the concept of type casting in python with examples.\n",
    "\n",
    "Ans - Type casting is a method used to convert one data type into another data type. Like from number within string into int and float into int etc. \n",
    "      There are two types of type casting they are:\n",
    "      Implicit casting :- python automatically detects and converts some data types.\n",
    "      Explicit type casting:- python automatically cannot convert data type so, it has to be manually programmed. '''\n"
   ]
  },
  {
   "cell_type": "code",
   "execution_count": 5,
   "id": "62a9e795-caba-47eb-8451-8a36582700a7",
   "metadata": {},
   "outputs": [
    {
     "name": "stdout",
     "output_type": "stream",
     "text": [
      "\n",
      "Example of implicit Type Casting.\n",
      "\n",
      "<class 'int'>\n",
      "<class 'float'>\n",
      "15.5 <class 'float'>\n",
      "\n",
      "Example of explict type casting.\n",
      "\n",
      "Captain Cool: Dohni 7 <class 'str'>\n"
     ]
    }
   ],
   "source": [
    "#5\n",
    "print(\"\\nExample of implicit Type Casting.\\n\")\n",
    "a = 10\n",
    "b = 5.5\n",
    "result = a + b \n",
    "print(type(a))\n",
    "print(type(b))\n",
    "print(result, type(result)) # Python converts int class to float class by itself.\n",
    "\n",
    "\n",
    "\n",
    "print(\"\\nExample of explict type casting.\\n\")\n",
    "# concatinating string and integer.\n",
    "string_name = \"Dohni\"\n",
    "integer_number = 7\n",
    "result = (f\"Captain Cool: {string_name} {str(integer_number)}\")\n",
    "print(result, type(result))\n",
    "\n",
    "#By default string and integer cannot be type casted \n",
    "#so, here we manually type casted int to string and concatenated.\n"
   ]
  },
  {
   "cell_type": "raw",
   "id": "f1f921a1-1af9-4bf5-8575-b75d3aaa611e",
   "metadata": {},
   "source": [
    "Q6 - How do conditional statements work in python? Illustrate with examples.\n",
    "\n",
    "Ans - Conditional statements control the flow of the program in a sequential manner by making decision in a specific block of code that  if the code meets the given condition or not with help of constructs  like “if, elif, else” etc.\n"
   ]
  },
  {
   "cell_type": "code",
   "execution_count": 6,
   "id": "a210d639-5cd4-41cb-a7b2-cf3942a66e2e",
   "metadata": {},
   "outputs": [
    {
     "name": "stdin",
     "output_type": "stream",
     "text": [
      "enter a number 10\n"
     ]
    },
    {
     "name": "stdout",
     "output_type": "stream",
     "text": [
      "number 10.0 is greater than zero\n"
     ]
    }
   ],
   "source": [
    "#6\n",
    "number = float(input(\"enter a number\"))\n",
    "if number > 0:\n",
    "    print(f\"number {number} is greater than zero\")\n",
    "elif number < 0:\n",
    "    print(f\"number {number} is smaller than zero\")\n",
    "else:\n",
    "    print(f\"number {number} equals zero\")"
   ]
  },
  {
   "cell_type": "code",
   "execution_count": null,
   "id": "9cee1c3e-7a0c-4a01-a4b8-163623f7f927",
   "metadata": {},
   "outputs": [],
   "source": [
    "''' Q7 - Describe the different types of loops in python and their use cases with examples.\n",
    "\n",
    "Ans - Loop statement in python helps to run a block of code repeatedly until and unless it meets the condition. “For” and “while” are two main loops \n",
    "      whereas “break, continue and else” are control statements helps to control the flow of loops. '''\n"
   ]
  },
  {
   "cell_type": "code",
   "execution_count": 7,
   "id": "d19ea309-bd44-4119-ba8a-380ba431e860",
   "metadata": {},
   "outputs": [
    {
     "name": "stdout",
     "output_type": "stream",
     "text": [
      "\n",
      "for loop\n",
      "\n"
     ]
    },
    {
     "name": "stdin",
     "output_type": "stream",
     "text": [
      "enter height of right angle triangle 10\n"
     ]
    },
    {
     "name": "stdout",
     "output_type": "stream",
     "text": [
      "*\n",
      "**\n",
      "***\n",
      "****\n",
      "*****\n",
      "******\n",
      "*******\n",
      "********\n",
      "*********\n",
      "**********\n",
      "\n",
      "while loop\n",
      "\n",
      "0\n",
      "1\n",
      "2\n",
      "3\n",
      "4\n",
      "\n",
      "break statement \n",
      "\n",
      "0\n",
      "10\n",
      "20\n",
      "30\n",
      "40\n",
      "break at number 50\n",
      "\n",
      "continue statement\n",
      "\n",
      "0\n",
      "1\n",
      "2\n",
      "3\n",
      "skiping this number 4\n"
     ]
    }
   ],
   "source": [
    "#7\n",
    "#for loop example\n",
    "print(\"\\nfor loop\\n\")\n",
    "height = int(input(\"enter height of right angle triangle\"))\n",
    "for i in range(1,height + 1):\n",
    "    print(\"*\" * i)\n",
    "#while loop example\n",
    "print(\"\\nwhile loop\\n\")\n",
    "count = 0\n",
    "while count < 5:\n",
    "    print(count)\n",
    "    count +=1\n",
    "#break statement\n",
    "print(\"\\nbreak statement \\n\")\n",
    "for number in range(0, 100, 10):\n",
    "    if number == 50:\n",
    "        print(\"break at number\", number)\n",
    "        break\n",
    "    print(number)\n",
    "else:\n",
    "    print(\"ran successfully without any break\")\n",
    "\n",
    "#continue statement\n",
    "print(\"\\ncontinue statement\\n\")\n",
    "for number in range(5):\n",
    "    if number == 4:\n",
    "        print(\"skiping this number\", number)\n",
    "        continue\n",
    "        print(number)\n",
    "    else:\n",
    "        print(number)"
   ]
  }
 ],
 "metadata": {
  "kernelspec": {
   "display_name": "Python 3 (ipykernel)",
   "language": "python",
   "name": "python3"
  },
  "language_info": {
   "codemirror_mode": {
    "name": "ipython",
    "version": 3
   },
   "file_extension": ".py",
   "mimetype": "text/x-python",
   "name": "python",
   "nbconvert_exporter": "python",
   "pygments_lexer": "ipython3",
   "version": "3.12.4"
  }
 },
 "nbformat": 4,
 "nbformat_minor": 5
}
